{
 "cells": [
  {
   "cell_type": "code",
   "execution_count": 1,
   "id": "73ad2366",
   "metadata": {},
   "outputs": [],
   "source": [
    "# import the necessary libraries\n",
    "import numpy as np\n",
    "import pandas as pd\n",
    "import torch\n",
    "import torch.nn as nn\n",
    "import torch.nn.functional as F\n",
    "import torch.utils.data as utils\n",
    "import torchvision.transforms as transforms\n",
    "from torch.utils.data import DataLoader, Dataset\n",
    "import matplotlib.pyplot as plt\n",
    "import torchvision.utils\n",
    "import config\n",
    "from utils import imshow, show_plot\n",
    "from contrastive import ContrastiveLoss\n",
    "import torchvision\n",
    "from torch.autograd import Variable\n",
    "from PIL import Image\n",
    "import PIL.ImageOps\n",
    "import os"
   ]
  },
  {
   "cell_type": "code",
   "execution_count": 2,
   "id": "ba77d34e",
   "metadata": {},
   "outputs": [],
   "source": [
    "# load the dataset\n",
    "training_dir = config.training_dir\n",
    "testing_dir = config.testing_dir\n",
    "training_csv = config.training_csv\n",
    "testing_csv = config.testing_csv"
   ]
  },
  {
   "cell_type": "code",
   "execution_count": 3,
   "id": "400673f5",
   "metadata": {},
   "outputs": [],
   "source": [
    "# preprocessing and loading the dataset\n",
    "class SiameseDataset:\n",
    "    def __init__(self, training_csv=None, training_dir=None, transform=None):\n",
    "        # used to prepare the labels and images path\n",
    "        self.train_df = pd.read_csv(training_csv)\n",
    "        self.train_df.columns = [\"image1\", \"image2\", \"label\"]\n",
    "        self.train_dir = training_dir\n",
    "        self.transform = transform\n",
    "\n",
    "    def __getitem__(self, index):\n",
    "\n",
    "        # getting the image path\n",
    "        image1_path = os.path.join(self.train_dir, self.train_df.iat[index, 0])\n",
    "        image2_path = os.path.join(self.train_dir, self.train_df.iat[index, 1])\n",
    "\n",
    "        # Loading the image\n",
    "        img0 = Image.open(image1_path)\n",
    "        img1 = Image.open(image2_path)\n",
    "        img0 = img0.convert(\"L\")\n",
    "        img1 = img1.convert(\"L\")\n",
    "\n",
    "        # Apply image transformations\n",
    "        if self.transform is not None:\n",
    "            img0 = self.transform(img0)\n",
    "            img1 = self.transform(img1)\n",
    "\n",
    "        return (\n",
    "            img0,\n",
    "            img1,\n",
    "            torch.from_numpy(\n",
    "                np.array([int(self.train_df.iat[index, 2])], dtype=np.float32)\n",
    "            ),\n",
    "        )\n",
    "\n",
    "    def __len__(self):\n",
    "        return len(self.train_df)"
   ]
  },
  {
   "cell_type": "code",
   "execution_count": 5,
   "id": "caaa32d9",
   "metadata": {},
   "outputs": [
    {
     "name": "stdout",
     "output_type": "stream",
     "text": [
      "[[0.]\n",
      " [1.]\n",
      " [0.]\n",
      " [0.]\n",
      " [1.]\n",
      " [0.]\n",
      " [0.]\n",
      " [0.]]\n"
     ]
    },
    {
     "data": {
      "image/png": "[encoded data removed]",
      "text/plain": [
       "<Figure size 640x480 with 1 Axes>"
      ]
     },
     "metadata": {},
     "output_type": "display_data"
    }
   ],
   "source": [
    "# Load the the dataset from raw image folders\n",
    "siamese_dataset = SiameseDataset(\n",
    "    training_csv,\n",
    "    training_dir,\n",
    "    transform=transforms.Compose(\n",
    "        [transforms.Resize((105, 105)), transforms.ToTensor()]\n",
    "    ),\n",
    ")\n",
    "\n",
    "\n",
    "# Viewing the sample of images and to check whether its loading properly\n",
    "vis_dataloader = DataLoader(siamese_dataset, shuffle=True, batch_size=8)\n",
    "dataiter = iter(vis_dataloader)\n",
    "\n",
    "\n",
    "example_batch = next(dataiter)\n",
    "concatenated = torch.cat((example_batch[0], example_batch[1]), 0)\n",
    "imshow(torchvision.utils.make_grid(concatenated))\n",
    "print(example_batch[2].numpy())"
   ]
  },
  {
   "cell_type": "code",
   "execution_count": 7,
   "id": "d98c7bf6",
   "metadata": {},
   "outputs": [],
   "source": [
    "# create a siamese network\n",
    "class SiameseNetwork(nn.Module):\n",
    "    def __init__(self):\n",
    "        super(SiameseNetwork, self).__init__()\n",
    "\n",
    "        # Setting up the Sequential of CNN Layers\n",
    "        self.cnn1 = nn.Sequential(\n",
    "            nn.Conv2d(1, 96, kernel_size=11, stride=1),\n",
    "            nn.ReLU(inplace=True),\n",
    "            nn.LocalResponseNorm(5, alpha=0.0001, beta=0.75, k=2),\n",
    "            nn.MaxPool2d(3, stride=2),\n",
    "            nn.Conv2d(96, 256, kernel_size=5, stride=1, padding=2),\n",
    "            nn.ReLU(inplace=True),\n",
    "            nn.LocalResponseNorm(5, alpha=0.0001, beta=0.75, k=2),\n",
    "            nn.MaxPool2d(3, stride=2),\n",
    "            nn.Dropout2d(p=0.3),\n",
    "            nn.Conv2d(256, 384, kernel_size=3, stride=1, padding=1),\n",
    "            nn.ReLU(inplace=True),\n",
    "            nn.Conv2d(384, 256, kernel_size=3, stride=1, padding=1),\n",
    "            nn.ReLU(inplace=True),\n",
    "            nn.MaxPool2d(3, stride=2),\n",
    "            nn.Dropout2d(p=0.3),\n",
    "        )\n",
    "\n",
    "        # Defining the fully connected layers\n",
    "        self.fc1 = nn.Sequential(\n",
    "            nn.Linear(30976, 1024),\n",
    "            nn.ReLU(inplace=True),\n",
    "            nn.Dropout2d(p=0.5),\n",
    "            nn.Linear(1024, 128),\n",
    "            nn.ReLU(inplace=True),\n",
    "            nn.Linear(128, 2),\n",
    "        )\n",
    "\n",
    "    def forward_once(self, x):\n",
    "        # Forward pass\n",
    "        output = self.cnn1(x)\n",
    "        output = output.view(output.size()[0], -1)\n",
    "        output = self.fc1(output)\n",
    "        return output\n",
    "\n",
    "    def forward(self, input1, input2):\n",
    "        # forward pass of input 1\n",
    "        output1 = self.forward_once(input1)\n",
    "        # forward pass of input 2\n",
    "        output2 = self.forward_once(input2)\n",
    "        return output1, output2"
   ]
  },
  {
   "cell_type": "code",
   "execution_count": null,
   "id": "4297a9c4",
   "metadata": {},
   "outputs": [],
   "source": [
    "# Load the dataset as pytorch tensors using dataloader\n",
    "train_dataloader = DataLoader(\n",
    "    siamese_dataset, shuffle=True, num_workers=8, batch_size=config.batch_size\n",
    ")\n",
    "\n",
    "# Declare Siamese Network\n",
    "net = SiameseNetwork().cuda()\n",
    "# Decalre Loss Function\n",
    "criterion = ContrastiveLoss()\n",
    "# Declare Optimizer\n",
    "optimizer = torch.optim.Adam(net.parameters(), lr=1e-3, weight_decay=0.0005)"
   ]
  },
  {
   "cell_type": "code",
   "execution_count": 8,
   "id": "7bb3e0aa",
   "metadata": {},
   "outputs": [],
   "source": [
    "# train the model\n",
    "def train():\n",
    "    loss = []\n",
    "    counter = []\n",
    "    iteration_number = 0\n",
    "\n",
    "    for epoch in range(1, config.epochs):\n",
    "        for i, data in enumerate(train_dataloader, 0):\n",
    "            img0, img1, label = data\n",
    "            img0, img1, label = img0.cuda(), img1.cuda(), label.cuda()\n",
    "            optimizer.zero_grad()\n",
    "            output1, output2 = net(img0, img1)\n",
    "            loss_contrastive = criterion(output1, output2, label)\n",
    "            loss_contrastive.backward()\n",
    "            optimizer.step()\n",
    "\n",
    "        print(\"Epoch {}\\n Current loss {}\\n\".format(epoch, loss_contrastive.item()))\n",
    "        iteration_number += 10\n",
    "        counter.append(iteration_number)\n",
    "        loss.append(loss_contrastive.item())\n",
    "    show_plot(counter, loss)\n",
    "    return net"
   ]
  },
  {
   "cell_type": "code",
   "execution_count": 9,
   "id": "69cc898a",
   "metadata": {},
   "outputs": [
    {
     "name": "stdout",
     "output_type": "stream",
     "text": [
      "Epoch 1\n",
      " Current loss 1.2497066259384155\n",
      "\n",
      "Epoch 2\n",
      " Current loss 1.266933560371399\n",
      "\n",
      "Epoch 3\n",
      " Current loss 1.0289674997329712\n",
      "\n",
      "Epoch 4\n",
      " Current loss 1.554384469985962\n",
      "\n",
      "Epoch 5\n",
      " Current loss 1.0740619897842407\n",
      "\n",
      "Epoch 6\n",
      " Current loss 1.233703374862671\n",
      "\n",
      "Epoch 7\n",
      " Current loss 0.8961448669433594\n",
      "\n",
      "Epoch 8\n",
      " Current loss 0.8527610301971436\n",
      "\n",
      "Epoch 9\n",
      " Current loss 1.232802152633667\n",
      "\n",
      "Epoch 10\n",
      " Current loss 1.6243090629577637\n",
      "\n",
      "Epoch 11\n",
      " Current loss 1.0611785650253296\n",
      "\n",
      "Epoch 12\n",
      " Current loss 1.205997347831726\n",
      "\n",
      "Epoch 13\n",
      " Current loss 1.1172947883605957\n",
      "\n",
      "Epoch 14\n",
      " Current loss 1.0572823286056519\n",
      "\n",
      "Epoch 15\n",
      " Current loss 1.1162184476852417\n",
      "\n",
      "Epoch 16\n",
      " Current loss 1.059380292892456\n",
      "\n",
      "Epoch 17\n",
      " Current loss 1.0655171871185303\n",
      "\n",
      "Epoch 18\n",
      " Current loss 1.1544677019119263\n",
      "\n",
      "Epoch 19\n",
      " Current loss 1.654105305671692\n",
      "\n"
     ]
    },
    {
     "data": {
      "image/png": "[encoded data removed]",
      "text/plain": [
       "<Figure size 432x288 with 1 Axes>"
      ]
     },
     "metadata": {
      "needs_background": "light"
     },
     "output_type": "display_data"
    },
    {
     "name": "stdout",
     "output_type": "stream",
     "text": [
      "Model Saved Successfully\n"
     ]
    }
   ],
   "source": [
    "# set the device to cuda\n",
    "device = torch.device(\"cuda\" if torch.cuda.is_available() else \"cpu\")\n",
    "model = train()\n",
    "torch.save(model.state_dict(), \"output/model.pt\")\n",
    "print(\"Model Saved Successfully\")"
   ]
  },
  {
   "cell_type": "code",
   "execution_count": 10,
   "id": "97e66835",
   "metadata": {},
   "outputs": [
    {
     "name": "stdout",
     "output_type": "stream",
     "text": [
      "Predicted Eucledian Distance:- 1.2930774688720703\n",
      "Actual Label:- Forged Pair Of Signature\n",
      "Predicted Eucledian Distance:- 0.6725202798843384\n",
      "Actual Label:- Original Pair Of Signature\n",
      "Predicted Eucledian Distance:- 0.8823959827423096\n",
      "Actual Label:- Forged Pair Of Signature\n",
      "Predicted Eucledian Distance:- 0.9346675276756287\n",
      "Actual Label:- Forged Pair Of Signature\n",
      "Predicted Eucledian Distance:- 0.25577670335769653\n",
      "Actual Label:- Forged Pair Of Signature\n",
      "Predicted Eucledian Distance:- 0.7937518358230591\n",
      "Actual Label:- Forged Pair Of Signature\n",
      "Predicted Eucledian Distance:- 0.7733522057533264\n",
      "Actual Label:- Original Pair Of Signature\n",
      "Predicted Eucledian Distance:- 0.7810924649238586\n",
      "Actual Label:- Original Pair Of Signature\n",
      "Predicted Eucledian Distance:- 1.2326889038085938\n",
      "Actual Label:- Original Pair Of Signature\n",
      "Predicted Eucledian Distance:- 0.6290231347084045\n",
      "Actual Label:- Original Pair Of Signature\n"
     ]
    },
    {
     "data": {
      "image/png": "[encoded data removed]",
      "text/plain": [
       "<Figure size 432x288 with 1 Axes>"
      ]
     },
     "metadata": {
      "needs_background": "light"
     },
     "output_type": "display_data"
    }
   ],
   "source": [
    "# Load the test dataset\n",
    "test_dataset = SiameseDataset(\n",
    "    training_csv=testing_csv,\n",
    "    training_dir=testing_dir,\n",
    "    transform=transforms.Compose(\n",
    "        [transforms.Resize((105, 105)), transforms.ToTensor()]\n",
    "    ),\n",
    ")\n",
    "\n",
    "test_dataloader = DataLoader(test_dataset, num_workers=6, batch_size=1, shuffle=True)\n",
    "\n",
    "count = 0\n",
    "for i, data in enumerate(test_dataloader, 0):\n",
    "    x0, x1, label = data\n",
    "    concat = torch.cat((x0, x1), 0)\n",
    "    output1, output2 = model(x0.to(device), x1.to(device))\n",
    "\n",
    "    eucledian_distance = F.pairwise_distance(output1, output2)\n",
    "\n",
    "    if label == torch.FloatTensor([[0]]):\n",
    "        label = \"Original Pair Of Signature\"\n",
    "    else:\n",
    "        label = \"Forged Pair Of Signature\"\n",
    "\n",
    "    imshow(torchvision.utils.make_grid(concat))\n",
    "    print(\"Predicted Eucledian Distance:-\", eucledian_distance.item())\n",
    "    print(\"Actual Label:-\", label)\n",
    "    count = count + 1\n",
    "    if count == 10:\n",
    "        break"
   ]
  },
  {
   "cell_type": "code",
   "execution_count": null,
   "id": "7ef18001",
   "metadata": {},
   "outputs": [],
   "source": []
  }
 ],
 "metadata": {
  "kernelspec": {
   "display_name": "Python 3",
   "language": "python",
   "name": "python3"
  },
  "language_info": {
   "codemirror_mode": {
    "name": "ipython",
    "version": 3
   },
   "file_extension": ".py",
   "mimetype": "text/x-python",
   "name": "python",
   "nbconvert_exporter": "python",
   "pygments_lexer": "ipython3",
   "version": "3.10.13"
  }
 },
 "nbformat": 4,
 "nbformat_minor": 5
}
